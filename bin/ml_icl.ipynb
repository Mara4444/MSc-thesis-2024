{
 "cells": [
  {
   "cell_type": "markdown",
   "metadata": {},
   "source": [
    "# ML-ICL"
   ]
  },
  {
   "cell_type": "markdown",
   "metadata": {},
   "source": [
    "## Setup"
   ]
  },
  {
   "cell_type": "markdown",
   "metadata": {},
   "source": [
    "### Imports"
   ]
  },
  {
   "cell_type": "code",
   "execution_count": 3,
   "metadata": {},
   "outputs": [
    {
     "name": "stdout",
     "output_type": "stream",
     "text": [
      "The autoreload extension is already loaded. To reload it, use:\n",
      "  %reload_ext autoreload\n"
     ]
    }
   ],
   "source": [
    "# imports\n",
    "from src.llm_utils import *\n",
    "\n",
    "%load_ext autoreload\n",
    "%autoreload 2"
   ]
  },
  {
   "cell_type": "markdown",
   "metadata": {},
   "source": [
    "## CL generation"
   ]
  },
  {
   "cell_type": "code",
   "execution_count": 13,
   "metadata": {},
   "outputs": [
    {
     "name": "stdout",
     "output_type": "stream",
     "text": [
      "Het klimaat in Amsterdam kan worden omschreven als een gematigd zeeklimaat. De stad ervaart milde zomers en koude winters. De gemiddelde temperatuur in de zomer varieert tussen de 17°C en 20°C, terwijl de winters gemiddeld tussen de 2°C en 6°C zijn. Het regent regelmatig in Amsterdam gedurende het hele jaar, met\n"
     ]
    }
   ],
   "source": [
    "# set prompt\n",
    "prompt = 'Describe the climate in Amsterdam.'\n",
    "\n",
    "# cl generation w GPT\n",
    "# set params\n",
    "model = 'gpt-3.5-turbo'\n",
    "tgt_lang = 'Dutch'  # target language\n",
    "max_tokens = 100\n",
    "temperature = 0.9\n",
    "\n",
    "# generate\n",
    "cl_gpt = CLGPT(model)   # instantiate CLGPT class\n",
    "response = cl_gpt.gen_cl(prompt, tgt_lang, max_tokens, temperature)\n",
    "print(response)"
   ]
  }
 ],
 "metadata": {
  "kernelspec": {
   "display_name": "ml-icl",
   "language": "python",
   "name": "python3"
  },
  "language_info": {
   "codemirror_mode": {
    "name": "ipython",
    "version": 3
   },
   "file_extension": ".py",
   "mimetype": "text/x-python",
   "name": "python",
   "nbconvert_exporter": "python",
   "pygments_lexer": "ipython3",
   "version": "3.11.0"
  }
 },
 "nbformat": 4,
 "nbformat_minor": 2
}
