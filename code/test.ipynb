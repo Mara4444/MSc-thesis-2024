{
 "cells": [
  {
   "cell_type": "code",
   "execution_count": 2,
   "metadata": {},
   "outputs": [
    {
     "name": "stderr",
     "output_type": "stream",
     "text": [
      "c:\\Users\\maras\\anaconda3\\envs\\llama\\lib\\site-packages\\tqdm\\auto.py:21: TqdmWarning: IProgress not found. Please update jupyter and ipywidgets. See https://ipywidgets.readthedocs.io/en/stable/user_install.html\n",
      "  from .autonotebook import tqdm as notebook_tqdm\n"
     ]
    }
   ],
   "source": [
    "# from src.translation_utils import *\n",
    "from src.dataset_utils import *\n",
    "from src.cot_utils import *"
   ]
  },
  {
   "cell_type": "code",
   "execution_count": 4,
   "metadata": {},
   "outputs": [],
   "source": [
    "coinflip = pd.read_csv('../datasets/coinflip/coinflip_eng_Latn.csv',sep=';')"
   ]
  },
  {
   "cell_type": "code",
   "execution_count": 3,
   "metadata": {},
   "outputs": [],
   "source": [
    "shuffled_objects = pd.read_csv('../datasets/shuffled_objects/shuffled_objects_eng_Latn.csv',sep=';')"
   ]
  },
  {
   "cell_type": "code",
   "execution_count": 4,
   "metadata": {},
   "outputs": [
    {
     "data": {
      "text/html": [
       "<div>\n",
       "<style scoped>\n",
       "    .dataframe tbody tr th:only-of-type {\n",
       "        vertical-align: middle;\n",
       "    }\n",
       "\n",
       "    .dataframe tbody tr th {\n",
       "        vertical-align: top;\n",
       "    }\n",
       "\n",
       "    .dataframe thead th {\n",
       "        text-align: right;\n",
       "    }\n",
       "</style>\n",
       "<table border=\"1\" class=\"dataframe\">\n",
       "  <thead>\n",
       "    <tr style=\"text-align: right;\">\n",
       "      <th></th>\n",
       "      <th>input</th>\n",
       "      <th>A</th>\n",
       "      <th>B</th>\n",
       "      <th>C</th>\n",
       "      <th>answer</th>\n",
       "      <th>answer_abc</th>\n",
       "    </tr>\n",
       "  </thead>\n",
       "  <tbody>\n",
       "    <tr>\n",
       "      <th>0</th>\n",
       "      <td>Alice, Bob, and Claire are playing a game. At ...</td>\n",
       "      <td>orange ball</td>\n",
       "      <td>white ball</td>\n",
       "      <td>blue ball</td>\n",
       "      <td>blue ball</td>\n",
       "      <td>C</td>\n",
       "    </tr>\n",
       "    <tr>\n",
       "      <th>1</th>\n",
       "      <td>Alice, Bob, and Claire are playing a game. At ...</td>\n",
       "      <td>orange ball</td>\n",
       "      <td>white ball</td>\n",
       "      <td>blue ball</td>\n",
       "      <td>white ball</td>\n",
       "      <td>B</td>\n",
       "    </tr>\n",
       "    <tr>\n",
       "      <th>2</th>\n",
       "      <td>Alice, Bob, and Claire are playing a game. At ...</td>\n",
       "      <td>orange ball</td>\n",
       "      <td>white ball</td>\n",
       "      <td>blue ball</td>\n",
       "      <td>orange ball</td>\n",
       "      <td>A</td>\n",
       "    </tr>\n",
       "    <tr>\n",
       "      <th>3</th>\n",
       "      <td>Alice, Bob, and Claire are playing a game. At ...</td>\n",
       "      <td>blue ball</td>\n",
       "      <td>black ball</td>\n",
       "      <td>brown ball</td>\n",
       "      <td>blue ball</td>\n",
       "      <td>A</td>\n",
       "    </tr>\n",
       "    <tr>\n",
       "      <th>4</th>\n",
       "      <td>Alice, Bob, and Claire are playing a game. At ...</td>\n",
       "      <td>blue ball</td>\n",
       "      <td>black ball</td>\n",
       "      <td>brown ball</td>\n",
       "      <td>brown ball</td>\n",
       "      <td>C</td>\n",
       "    </tr>\n",
       "    <tr>\n",
       "      <th>...</th>\n",
       "      <td>...</td>\n",
       "      <td>...</td>\n",
       "      <td>...</td>\n",
       "      <td>...</td>\n",
       "      <td>...</td>\n",
       "      <td>...</td>\n",
       "    </tr>\n",
       "    <tr>\n",
       "      <th>745</th>\n",
       "      <td>Alice, Bob, and Claire are dancers at a square...</td>\n",
       "      <td>Karl</td>\n",
       "      <td>Melissa</td>\n",
       "      <td>Sam</td>\n",
       "      <td>Karl</td>\n",
       "      <td>A</td>\n",
       "    </tr>\n",
       "    <tr>\n",
       "      <th>746</th>\n",
       "      <td>Alice, Bob, and Claire are dancers at a square...</td>\n",
       "      <td>Karl</td>\n",
       "      <td>Melissa</td>\n",
       "      <td>Sam</td>\n",
       "      <td>Sam</td>\n",
       "      <td>C</td>\n",
       "    </tr>\n",
       "    <tr>\n",
       "      <th>747</th>\n",
       "      <td>Alice, Bob, and Claire are dancers at a square...</td>\n",
       "      <td>Izzi</td>\n",
       "      <td>Helga</td>\n",
       "      <td>Melissa</td>\n",
       "      <td>Izzi</td>\n",
       "      <td>A</td>\n",
       "    </tr>\n",
       "    <tr>\n",
       "      <th>748</th>\n",
       "      <td>Alice, Bob, and Claire are dancers at a square...</td>\n",
       "      <td>Izzi</td>\n",
       "      <td>Helga</td>\n",
       "      <td>Melissa</td>\n",
       "      <td>Melissa</td>\n",
       "      <td>C</td>\n",
       "    </tr>\n",
       "    <tr>\n",
       "      <th>749</th>\n",
       "      <td>Alice, Bob, and Claire are dancers at a square...</td>\n",
       "      <td>Izzi</td>\n",
       "      <td>Helga</td>\n",
       "      <td>Melissa</td>\n",
       "      <td>Helga</td>\n",
       "      <td>B</td>\n",
       "    </tr>\n",
       "  </tbody>\n",
       "</table>\n",
       "<p>750 rows × 6 columns</p>\n",
       "</div>"
      ],
      "text/plain": [
       "                                                 input            A  \\\n",
       "0    Alice, Bob, and Claire are playing a game. At ...  orange ball   \n",
       "1    Alice, Bob, and Claire are playing a game. At ...  orange ball   \n",
       "2    Alice, Bob, and Claire are playing a game. At ...  orange ball   \n",
       "3    Alice, Bob, and Claire are playing a game. At ...    blue ball   \n",
       "4    Alice, Bob, and Claire are playing a game. At ...    blue ball   \n",
       "..                                                 ...          ...   \n",
       "745  Alice, Bob, and Claire are dancers at a square...         Karl   \n",
       "746  Alice, Bob, and Claire are dancers at a square...         Karl   \n",
       "747  Alice, Bob, and Claire are dancers at a square...         Izzi   \n",
       "748  Alice, Bob, and Claire are dancers at a square...         Izzi   \n",
       "749  Alice, Bob, and Claire are dancers at a square...         Izzi   \n",
       "\n",
       "              B           C       answer answer_abc  \n",
       "0    white ball   blue ball    blue ball          C  \n",
       "1    white ball   blue ball   white ball          B  \n",
       "2    white ball   blue ball  orange ball          A  \n",
       "3    black ball  brown ball    blue ball          A  \n",
       "4    black ball  brown ball   brown ball          C  \n",
       "..          ...         ...          ...        ...  \n",
       "745     Melissa         Sam         Karl          A  \n",
       "746     Melissa         Sam          Sam          C  \n",
       "747       Helga     Melissa         Izzi          A  \n",
       "748       Helga     Melissa      Melissa          C  \n",
       "749       Helga     Melissa        Helga          B  \n",
       "\n",
       "[750 rows x 6 columns]"
      ]
     },
     "execution_count": 4,
     "metadata": {},
     "output_type": "execute_result"
    }
   ],
   "source": [
    "shuffled_objects"
   ]
  },
  {
   "cell_type": "code",
   "execution_count": 8,
   "metadata": {},
   "outputs": [
    {
     "data": {
      "text/plain": [
       "59"
      ]
     },
     "execution_count": 8,
     "metadata": {},
     "output_type": "execute_result"
    }
   ],
   "source": [
    "len([\"afr_Latn\",\"arb_Arab\",\"ban_Latn\",\"bel_Cyrl\",\"ben_Beng\",\"bod_Tibt\", \"bos_Latn\",\"bul_Cyrl\",\n",
    "\"ces_Latn\", \"cat_Latn\",\"dan_Latn\", \"deu_Latn\",\"ell_Grek\",\"est_Latn\", \n",
    "\"fin_Latn\", \"fra_Latn\",\"hat_Latn\", \"heb_Hebr\",\"hin_Deva\",\"hun_Latn\", \"hrv_Latn\", \"hye_Armn\", \n",
    "\"ind_Latn\", \"ita_Latn\",\"jav_Latn\", \"jpn_Jpan\",\"khm_Khmr\",\"kor_Hang\", \n",
    "\"lao_Laoo\",\"mai_Deva\", \"mal_Mlym\", \"mar_Deva\", \"mya_Mymr\", \"nno_Latn\",\n",
    "\"nld_Latn\", \"npi_Deva\",\"pol_Latn\",\"por_Latn\", \"slk_Latn\",\"quy_Latn\",\"ron_Latn\", \"rus_Cyrl\", \n",
    "\"slv_Latn\", \"spa_Latn\", \"srp_Cyrl\", \"swe_Latn\", \"swh_Latn\", \"tam_Taml\", \"tel_Telu\", \n",
    "\"tgl_Latn\", 'tha_Thai',\"tur_Latn\",\"ukr_Cyrl\", \"urd_Arab\", \"vie_Latn\" , 'yue_Hant', \"zho_Hant\", \"zsm_Latn\",\"zul_Latn\"])"
   ]
  },
  {
   "cell_type": "code",
   "execution_count": 9,
   "metadata": {},
   "outputs": [
    {
     "data": {
      "text/plain": [
       "59"
      ]
     },
     "execution_count": 9,
     "metadata": {},
     "output_type": "execute_result"
    }
   ],
   "source": [
    "len([\n",
    "    \"Afrikaans\", \"Arabic\", \"Armenian\", \"Balinese\", \"Belarussian\", \"Bengali\", \n",
    "    \"Bosnian\", \"Bulgarian\", \"Burmese\", \"Cantonese\", \"Catalan\", \"Chinese\", \n",
    "    \"Croatian\", \"Czech\", \"Danish\", \"Dutch\", \"Estonian\", \"Finnish\", \"French\", \n",
    "    \"German\", \"Greek\", \"Haitian Creole\", \"Hebrew\", \"Hindi\", \"Hungarian\", \"Indonesian\", \"Italian\", \n",
    "    \"Javanese\", \"Japanese\", \"Khmer\", \"Korean\", \"Lao\", \"Maithili\", \"Malay\", \"Malayam\",\n",
    "    \"Marathi\", \"Nepali\", \"Norwegian\", \"Polish\", \"Portuguese\", \"Quechuan\", \n",
    "    \"Romanian\", \"Russian\", \"Serbian\", \"Slovak\", \"Slovenian\", \"Spanish\", \n",
    "    \"Swahili\", \"Swedish\", \"Tagalog\", \"Tamil\", \"Telugu\", \"Thai\", \"Tibetan\", \n",
    "    \"Turkish\", \"Ukrainian\", \"Urdu\",  \"Vietnamese\", \"Zulu\"\n",
    "])"
   ]
  },
  {
   "cell_type": "code",
   "execution_count": 27,
   "metadata": {},
   "outputs": [],
   "source": [
    "def get_prompt(row,task,prompt_setting,instr_lang):\n",
    "    \"\"\"\n",
    "    Generate a string response by a prompt and promptsetting.\n",
    "    \n",
    "    Parameters:\n",
    "    question: string task.\n",
    "    prompt_setting: different prompting techniques: 'basic', 'cot'\n",
    "    instr_lang: language of the instruction.\n",
    "\n",
    "    Returns:    \n",
    "    String prompt.\n",
    "    \"\"\"\n",
    "\n",
    "    instr_lang = language_codes[instr_lang]\n",
    "\n",
    "    def generate_message(string,**kwargs):\n",
    "        return string.format(**kwargs)\n",
    "    \n",
    "    # instructions = pd.read_csv(\"./datasets/translated_instructions.csv\",sep=';')\n",
    "    # instructions.set_index(instructions['language'],inplace=True)\n",
    "    # instructions = instructions.drop('Unnamed: 0',axis=1)\n",
    "    # instructions = instructions.drop('language',axis=1)\n",
    "\n",
    "    if task == 'xcopa':\n",
    "\n",
    "        if prompt_setting == 'cot':\n",
    "\n",
    "            cot = instructions.loc[instr_lang]['cot']\n",
    "\n",
    "        elif prompt_setting == 'basic':\n",
    "\n",
    "            cot = ''\n",
    "\n",
    "        question = row['question']\n",
    "        \n",
    "        if question == 'cause':\n",
    "\n",
    "            return generate_message(instructions.loc[instr_lang]['xcopa_cause'],\n",
    "                            premise = row['premise'],\n",
    "                            choice1 = row['choice1'],\n",
    "                            choice2 = row['choice2'],\n",
    "                            question = row['question'],\n",
    "                            cot=cot)\n",
    "            \n",
    "        elif question == 'effect':\n",
    "\n",
    "            return generate_message(instructions.loc[instr_lang]['xcopa_effect'],\n",
    "                            premise = row['premise'],\n",
    "                            choice1 = row['choice1'],\n",
    "                            choice2 = row['choice2'],\n",
    "                            question = row['question'],\n",
    "                            cot=cot)\n",
    "   \n",
    "    elif task == 'mgsm':\n",
    "\n",
    "        if prompt_setting == 'cot':\n",
    "        \n",
    "            return generate_message(instructions.loc[instr_lang]['mgsm_cot'],\n",
    "                                question = row['question'])\n",
    "        \n",
    "        elif prompt_setting == 'basic':\n",
    "\n",
    "            return generate_message(instructions.loc[instr_lang]['mgsm_basic'],\n",
    "                                question = row['question'])  \n",
    "        \n",
    "    elif task == 'msvamp':\n",
    "\n",
    "        if prompt_setting == 'cot':\n",
    "        \n",
    "            return generate_message(instructions.loc[instr_lang]['mgsm_cot'],\n",
    "                                question = row['question'])\n",
    "        \n",
    "        elif prompt_setting == 'basic':\n",
    "\n",
    "            return generate_message(instructions.loc[instr_lang]['mgsm_basic'],\n",
    "                                question = row['question'])   \n",
    "        \n",
    "    elif task == 'coinflip':\n",
    "        question = row['question']\n",
    "\n",
    "        if prompt_setting == 'basic':\n",
    "\n",
    "            print(f'Question: {question} \\nOption A: Yes \\nOption B: No \\nChoose between options A and B. \\nAnswer: ')\n",
    "\n",
    "\n",
    "        elif prompt_setting == 'cot':\n",
    "            print('hello')\n",
    "\n",
    "            print(f\"Question: {question} \\nOption A: Yes \\nOption B: No \\nChoose between options A and B. \\nAnswer: Let's think step by step.\")"
   ]
  },
  {
   "cell_type": "code",
   "execution_count": 28,
   "metadata": {},
   "outputs": [
    {
     "name": "stdout",
     "output_type": "stream",
     "text": [
      "Question: A coin is heads up. Whitney flips the coin. Erika does not flip the coin. Tj does not flip the coin. Benito flips the coin. Is the coin still heads up? Note that \"flip\" here means \"reverse\". \n",
      "Option A: Yes \n",
      "Option B: No \n",
      "Choose between options A and B. \n",
      "Answer: \n",
      "Question: A coin is heads up. Lucky does not flip the coin. Mireya flips the coin. Jj flips the coin. Kc flips the coin. Is the coin still heads up? Note that \"flip\" here means \"reverse\". \n",
      "Option A: Yes \n",
      "Option B: No \n",
      "Choose between options A and B. \n",
      "Answer: \n",
      "Question: A coin is heads up. Caleb flips the coin. Chase flips the coin. Eleazar flips the coin. Chanel does not flip the coin. Is the coin still heads up? Note that \"flip\" here means \"reverse\". \n",
      "Option A: Yes \n",
      "Option B: No \n",
      "Choose between options A and B. \n",
      "Answer: \n"
     ]
    }
   ],
   "source": [
    "for index, row in coinflip[:3].iterrows():\n",
    "\n",
    "    get_prompt(row=row,\n",
    "           task='coinflip',\n",
    "           prompt_setting='basic',\n",
    "           instr_lang='English')"
   ]
  },
  {
   "cell_type": "code",
   "execution_count": 32,
   "metadata": {},
   "outputs": [
    {
     "ename": "SyntaxError",
     "evalue": "positional argument follows keyword argument (248711549.py, line 1)",
     "output_type": "error",
     "traceback": [
      "\u001b[1;36m  Cell \u001b[1;32mIn [32], line 1\u001b[1;36m\u001b[0m\n\u001b[1;33m    get_results(coinflip,task='coinflip','coinflip','../datasets/coinflip/coinflip_eng_Latn.csv')\u001b[0m\n\u001b[1;37m                                                                                                ^\u001b[0m\n\u001b[1;31mSyntaxError\u001b[0m\u001b[1;31m:\u001b[0m positional argument follows keyword argument\n"
     ]
    }
   ],
   "source": [
    "get_results(coinflip,task='coinflip','coinflip','../datasets/coinflip/coinflip_eng_Latn.csv')"
   ]
  },
  {
   "cell_type": "code",
   "execution_count": 2,
   "metadata": {},
   "outputs": [],
   "source": [
    "test = ['Afrikaans','Arabic','Balinese','Belarusian','Bengali','Tibetan', 'Bosnian', \n",
    "                                 'Bulgarian', 'Catalan', 'Czech', 'Danish', 'Khmer', 'Korean', 'Lao', 'Maithili', \n",
    "                                 'Malayalam', 'Marathi', 'Dutch', 'Norwegian', 'Nepali', 'German', 'Polish', 'Greek',\n",
    "                                 'Portuguese','Russian','French','Romanian','Finnish','Hebrew','Slovak','Hindi',\n",
    "                                 'Croatian','Hungarian','Swedish','Japanese','Javanese',\"Armenian\", \"Bulgarian\", \n",
    "                                 \"Burmese\", \"Cantonese\", \"Malay\", \"Serbian\", \"Slovenian\", \"Spanish\", \"Tagalog\", \n",
    "                                 \"Telugu\", \"Ukrainian\", \"Urdu\", \"Zulu\"]"
   ]
  },
  {
   "cell_type": "code",
   "execution_count": 3,
   "metadata": {},
   "outputs": [
    {
     "data": {
      "text/plain": [
       "['Telugu', 'Ukrainian', 'Urdu', 'Zulu']"
      ]
     },
     "execution_count": 3,
     "metadata": {},
     "output_type": "execute_result"
    }
   ],
   "source": [
    "test[45:50]"
   ]
  },
  {
   "cell_type": "code",
   "execution_count": 5,
   "metadata": {},
   "outputs": [],
   "source": [
    "def extract_numeric_answer(inputstring):\n",
    "    \"\"\"\n",
    "    Finds the numeric answer in the model's response.\n",
    "    \n",
    "    Parameters:\n",
    "    inputstring: The model's response.\n",
    "\n",
    "    Returns:\n",
    "    String value of the last mentioned number.\n",
    "    \"\"\"\n",
    "    # Regular expression to find 'the answer is ' followed by a number\n",
    "    match = re.search(r'The answer is (\\b\\d+(?:[,.]\\d+)?\\b)', inputstring,re.IGNORECASE)\n",
    "\n",
    "    if match:\n",
    "        # Extract the number after 'the answer is'\n",
    "        number = match.group(1)\n",
    "        number = number.replace(',', '') # \n",
    "        return pd.to_numeric(number, errors='coerce')\n",
    "    \n",
    "    else:\n",
    "        numberlist = re.findall(r'\\b\\d+(?:[,.]\\d+)?\\b',inputstring)\n",
    "        \n",
    "        if len(numberlist) > 0:\n",
    "            number = numberlist[-1]\n",
    "            if number is not None:\n",
    "                number = number.replace(',', '') # \n",
    "                return pd.to_numeric(number, errors='coerce')\n",
    "        else:\n",
    "            return 0.0\n",
    "    \n",
    "def extract_abc_answer(inputstring):\n",
    "    \"\"\"\n",
    "    Finds the multiple choice answer (A or B) in the model's response.\n",
    "    \n",
    "    Parameters:\n",
    "    inputstring: The model's response.\n",
    "\n",
    "    Returns:\n",
    "    String value of the multiple choice answer.\n",
    "    \"\"\"\n",
    "    matches = re.findall(r'\\b[A|B|C]\\b', inputstring)\n",
    "    \n",
    "    if len(matches) != 0:\n",
    "        return matches[0]\n",
    "    else: \n",
    "\n",
    "        return ''"
   ]
  },
  {
   "cell_type": "code",
   "execution_count": 16,
   "metadata": {},
   "outputs": [
    {
     "data": {
      "text/plain": [
       "'C'"
      ]
     },
     "execution_count": 16,
     "metadata": {},
     "output_type": "execute_result"
    }
   ],
   "source": [
    "extract_abc_answer('blabla sdgsdf 25.03 Option a): and also C')"
   ]
  },
  {
   "cell_type": "code",
   "execution_count": null,
   "metadata": {},
   "outputs": [],
   "source": []
  }
 ],
 "metadata": {
  "kernelspec": {
   "display_name": "llama",
   "language": "python",
   "name": "python3"
  },
  "language_info": {
   "codemirror_mode": {
    "name": "ipython",
    "version": 3
   },
   "file_extension": ".py",
   "mimetype": "text/x-python",
   "name": "python",
   "nbconvert_exporter": "python",
   "pygments_lexer": "ipython3",
   "version": "3.10.13"
  }
 },
 "nbformat": 4,
 "nbformat_minor": 2
}
