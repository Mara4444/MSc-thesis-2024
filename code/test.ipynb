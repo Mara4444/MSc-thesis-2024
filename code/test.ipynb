{
 "cells": [
  {
   "cell_type": "code",
   "execution_count": 1,
   "metadata": {},
   "outputs": [
    {
     "name": "stderr",
     "output_type": "stream",
     "text": [
      "c:\\Users\\maras\\anaconda3\\envs\\llama\\lib\\site-packages\\tqdm\\auto.py:21: TqdmWarning: IProgress not found. Please update jupyter and ipywidgets. See https://ipywidgets.readthedocs.io/en/stable/user_install.html\n",
      "  from .autonotebook import tqdm as notebook_tqdm\n"
     ]
    }
   ],
   "source": [
    "# from src.translation_utils import *\n",
    "from src.dataset_utils import *\n",
    "from src.cot_utils import *"
   ]
  },
  {
   "cell_type": "code",
   "execution_count": 2,
   "metadata": {},
   "outputs": [],
   "source": [
    "mgsm_en = load_dataset(\"juletxara/mgsm\",\"en\")        \n",
    "mgsm_bn = load_dataset(\"juletxara/mgsm\",\"bn\")     \n",
    "mgsm_de = load_dataset(\"juletxara/mgsm\",\"de\")     \n",
    "mgsm_es = load_dataset(\"juletxara/mgsm\",\"es\")     \n",
    "mgsm_fr = load_dataset(\"juletxara/mgsm\",\"fr\")     \n",
    "mgsm_ja = load_dataset(\"juletxara/mgsm\",\"ja\")     \n",
    "mgsm_ru = load_dataset(\"juletxara/mgsm\",\"ru\")     \n",
    "mgsm_sw = load_dataset(\"juletxara/mgsm\",\"sw\")     \n",
    "mgsm_te = load_dataset(\"juletxara/mgsm\",\"te\")     \n",
    "mgsm_th = load_dataset(\"juletxara/mgsm\",\"th\")     \n",
    "mgsm_zh = load_dataset(\"juletxara/mgsm\",\"zh\")     "
   ]
  },
  {
   "cell_type": "code",
   "execution_count": 6,
   "metadata": {},
   "outputs": [
    {
     "data": {
      "text/html": [
       "<div>\n",
       "<style scoped>\n",
       "    .dataframe tbody tr th:only-of-type {\n",
       "        vertical-align: middle;\n",
       "    }\n",
       "\n",
       "    .dataframe tbody tr th {\n",
       "        vertical-align: top;\n",
       "    }\n",
       "\n",
       "    .dataframe thead th {\n",
       "        text-align: right;\n",
       "    }\n",
       "</style>\n",
       "<table border=\"1\" class=\"dataframe\">\n",
       "  <thead>\n",
       "    <tr style=\"text-align: right;\">\n",
       "      <th></th>\n",
       "      <th>language</th>\n",
       "      <th>question</th>\n",
       "      <th>answer</th>\n",
       "    </tr>\n",
       "  </thead>\n",
       "  <tbody>\n",
       "    <tr>\n",
       "      <th>0</th>\n",
       "      <td>afr_Latn</td>\n",
       "      <td>Vraag: Roger het 5 tennisballe. Hy koop nog 2 ...</td>\n",
       "      <td>Stap-vir-stap antwoord: Roger het met 5 balle ...</td>\n",
       "    </tr>\n",
       "    <tr>\n",
       "      <th>1</th>\n",
       "      <td>afr_Latn</td>\n",
       "      <td>Vraag: Daar was nege rekenaars in die bediener...</td>\n",
       "      <td>Stap-vir-stap antwoord: Daar is 4 dae van Maan...</td>\n",
       "    </tr>\n",
       "    <tr>\n",
       "      <th>2</th>\n",
       "      <td>afr_Latn</td>\n",
       "      <td>Vraag: Leah het 32 sjokolade gehad en haar sus...</td>\n",
       "      <td>Stap-vir-stap-antwoord: Leah het 32 sjokolade ...</td>\n",
       "    </tr>\n",
       "    <tr>\n",
       "      <th>3</th>\n",
       "      <td>afr_Latn</td>\n",
       "      <td>Vraag: Shawn het vyf speelgoed. Vir Kersfees h...</td>\n",
       "      <td>Stap-vir-stap-antwoord: Hy het 5 speelgoed. Hy...</td>\n",
       "    </tr>\n",
       "    <tr>\n",
       "      <th>4</th>\n",
       "      <td>afr_Latn</td>\n",
       "      <td>Vraag: Michael het 58 gholfballe gehad. Dinsda...</td>\n",
       "      <td>Stap-vir-stap antwoord: Michael het met 58 gho...</td>\n",
       "    </tr>\n",
       "    <tr>\n",
       "      <th>...</th>\n",
       "      <td>...</td>\n",
       "      <td>...</td>\n",
       "      <td>...</td>\n",
       "    </tr>\n",
       "    <tr>\n",
       "      <th>371</th>\n",
       "      <td>zul_Latn</td>\n",
       "      <td>Umbuzo: UShawn unamathoyizi amahlanu. NgoKhisi...</td>\n",
       "      <td>Impendulo Yezinyathelo Ngezinyathelo: Unamatho...</td>\n",
       "    </tr>\n",
       "    <tr>\n",
       "      <th>372</th>\n",
       "      <td>zul_Latn</td>\n",
       "      <td>Umbuzo: UMichael wayenezinkuni zegalofu ezingu...</td>\n",
       "      <td>Impendulo Yezinyathelo Ngezinyathelo: UMichael...</td>\n",
       "    </tr>\n",
       "    <tr>\n",
       "      <th>373</th>\n",
       "      <td>zul_Latn</td>\n",
       "      <td>Umbuzo: U-Olivia unama-dollar angu-23. Watheng...</td>\n",
       "      <td>Impendulo Eyisinyathelo-Ngesinyathelo: Ama - b...</td>\n",
       "    </tr>\n",
       "    <tr>\n",
       "      <th>374</th>\n",
       "      <td>zul_Latn</td>\n",
       "      <td>Umbuzo: UJason wayene-lolipops engu-20. Wanika...</td>\n",
       "      <td>Impendulo Elula: UJason waqala enama - lollipo...</td>\n",
       "    </tr>\n",
       "    <tr>\n",
       "      <th>375</th>\n",
       "      <td>zul_Latn</td>\n",
       "      <td>Umbuzo: Uma kunemoto emithathu endaweni yokupa...</td>\n",
       "      <td>Impendulo Yezinyathelo Ngezinyathelo: Ekuqalen...</td>\n",
       "    </tr>\n",
       "  </tbody>\n",
       "</table>\n",
       "<p>376 rows × 3 columns</p>\n",
       "</div>"
      ],
      "text/plain": [
       "     language                                           question  \\\n",
       "0    afr_Latn  Vraag: Roger het 5 tennisballe. Hy koop nog 2 ...   \n",
       "1    afr_Latn  Vraag: Daar was nege rekenaars in die bediener...   \n",
       "2    afr_Latn  Vraag: Leah het 32 sjokolade gehad en haar sus...   \n",
       "3    afr_Latn  Vraag: Shawn het vyf speelgoed. Vir Kersfees h...   \n",
       "4    afr_Latn  Vraag: Michael het 58 gholfballe gehad. Dinsda...   \n",
       "..        ...                                                ...   \n",
       "371  zul_Latn  Umbuzo: UShawn unamathoyizi amahlanu. NgoKhisi...   \n",
       "372  zul_Latn  Umbuzo: UMichael wayenezinkuni zegalofu ezingu...   \n",
       "373  zul_Latn  Umbuzo: U-Olivia unama-dollar angu-23. Watheng...   \n",
       "374  zul_Latn  Umbuzo: UJason wayene-lolipops engu-20. Wanika...   \n",
       "375  zul_Latn  Umbuzo: Uma kunemoto emithathu endaweni yokupa...   \n",
       "\n",
       "                                                answer  \n",
       "0    Stap-vir-stap antwoord: Roger het met 5 balle ...  \n",
       "1    Stap-vir-stap antwoord: Daar is 4 dae van Maan...  \n",
       "2    Stap-vir-stap-antwoord: Leah het 32 sjokolade ...  \n",
       "3    Stap-vir-stap-antwoord: Hy het 5 speelgoed. Hy...  \n",
       "4    Stap-vir-stap antwoord: Michael het met 58 gho...  \n",
       "..                                                 ...  \n",
       "371  Impendulo Yezinyathelo Ngezinyathelo: Unamatho...  \n",
       "372  Impendulo Yezinyathelo Ngezinyathelo: UMichael...  \n",
       "373  Impendulo Eyisinyathelo-Ngesinyathelo: Ama - b...  \n",
       "374  Impendulo Elula: UJason waqala enama - lollipo...  \n",
       "375  Impendulo Yezinyathelo Ngezinyathelo: Ekuqalen...  \n",
       "\n",
       "[376 rows x 3 columns]"
      ]
     },
     "execution_count": 6,
     "metadata": {},
     "output_type": "execute_result"
    }
   ],
   "source": [
    "exemplars = pd.read_csv('mgsm_exemplars.csv',sep=';')\n",
    "exemplars"
   ]
  },
  {
   "cell_type": "code",
   "execution_count": 4,
   "metadata": {},
   "outputs": [],
   "source": [
    "df = pd.DataFrame(data={'language' : ['eng_Latn']*8 + ['ben_Beng']*8 + ['deu_Latn']*8 + ['fre_Latn']*8 + ['spa_Latn']*8 + ['tel_Telu']*8 + ['tha_Thai']*8 + ['jap_Japn']*8 + ['zho_Hant']*8 + ['rus_Cyrl']*8 + ['swa_Latn']*8,\n",
    "                        'question': mgsm_en['train']['question']+ mgsm_bn['train']['question'] + mgsm_de['train']['question'] + mgsm_fr['train']['question'] + mgsm_es['train']['question'] + mgsm_te['train']['question'] + mgsm_th['train']['question'] + mgsm_ja['train']['question'] + mgsm_zh['train']['question'] + mgsm_ru['train']['question'] + mgsm_sw['train']['question'],\n",
    "                        'answer': mgsm_en['train']['answer'] + mgsm_bn['train']['answer'] + mgsm_de['train']['answer'] + mgsm_fr['train']['answer'] + mgsm_es['train']['answer'] + mgsm_te['train']['answer'] + mgsm_th['train']['answer'] + mgsm_ja['train']['answer'] + mgsm_zh['train']['answer'] + mgsm_ru['train']['answer'] + mgsm_sw['train']['answer']\n",
    "                        })\n",
    "\n"
   ]
  },
  {
   "cell_type": "code",
   "execution_count": 5,
   "metadata": {},
   "outputs": [
    {
     "data": {
      "text/html": [
       "<div>\n",
       "<style scoped>\n",
       "    .dataframe tbody tr th:only-of-type {\n",
       "        vertical-align: middle;\n",
       "    }\n",
       "\n",
       "    .dataframe tbody tr th {\n",
       "        vertical-align: top;\n",
       "    }\n",
       "\n",
       "    .dataframe thead th {\n",
       "        text-align: right;\n",
       "    }\n",
       "</style>\n",
       "<table border=\"1\" class=\"dataframe\">\n",
       "  <thead>\n",
       "    <tr style=\"text-align: right;\">\n",
       "      <th></th>\n",
       "      <th>language</th>\n",
       "      <th>question</th>\n",
       "      <th>answer</th>\n",
       "    </tr>\n",
       "  </thead>\n",
       "  <tbody>\n",
       "    <tr>\n",
       "      <th>0</th>\n",
       "      <td>eng_Latn</td>\n",
       "      <td>Question: Roger has 5 tennis balls. He buys 2 ...</td>\n",
       "      <td>Step-by-Step Answer: Roger started with 5 ball...</td>\n",
       "    </tr>\n",
       "    <tr>\n",
       "      <th>1</th>\n",
       "      <td>eng_Latn</td>\n",
       "      <td>Question: There were nine computers in the ser...</td>\n",
       "      <td>Step-by-Step Answer: There are 4 days from mon...</td>\n",
       "    </tr>\n",
       "    <tr>\n",
       "      <th>2</th>\n",
       "      <td>eng_Latn</td>\n",
       "      <td>Question: Leah had 32 chocolates and her siste...</td>\n",
       "      <td>Step-by-Step Answer: Leah had 32 chocolates an...</td>\n",
       "    </tr>\n",
       "    <tr>\n",
       "      <th>3</th>\n",
       "      <td>eng_Latn</td>\n",
       "      <td>Question: Shawn has five toys. For Christmas, ...</td>\n",
       "      <td>Step-by-Step Answer: He has 5 toys. He got 2 f...</td>\n",
       "    </tr>\n",
       "    <tr>\n",
       "      <th>4</th>\n",
       "      <td>eng_Latn</td>\n",
       "      <td>Question: Michael had 58 golf balls. On tuesda...</td>\n",
       "      <td>Step-by-Step Answer: Michael started with 58 g...</td>\n",
       "    </tr>\n",
       "    <tr>\n",
       "      <th>...</th>\n",
       "      <td>...</td>\n",
       "      <td>...</td>\n",
       "      <td>...</td>\n",
       "    </tr>\n",
       "    <tr>\n",
       "      <th>371</th>\n",
       "      <td>zul_Latn</td>\n",
       "      <td>Umbuzo: UShawn unamathoyizi amahlanu. NgoKhisi...</td>\n",
       "      <td>Impendulo Yezinyathelo Ngezinyathelo: Unamatho...</td>\n",
       "    </tr>\n",
       "    <tr>\n",
       "      <th>372</th>\n",
       "      <td>zul_Latn</td>\n",
       "      <td>Umbuzo: UMichael wayenezinkuni zegalofu ezingu...</td>\n",
       "      <td>Impendulo Yezinyathelo Ngezinyathelo: UMichael...</td>\n",
       "    </tr>\n",
       "    <tr>\n",
       "      <th>373</th>\n",
       "      <td>zul_Latn</td>\n",
       "      <td>Umbuzo: U-Olivia unama-dollar angu-23. Watheng...</td>\n",
       "      <td>Impendulo Eyisinyathelo-Ngesinyathelo: Ama - b...</td>\n",
       "    </tr>\n",
       "    <tr>\n",
       "      <th>374</th>\n",
       "      <td>zul_Latn</td>\n",
       "      <td>Umbuzo: UJason wayene-lolipops engu-20. Wanika...</td>\n",
       "      <td>Impendulo Elula: UJason waqala enama - lollipo...</td>\n",
       "    </tr>\n",
       "    <tr>\n",
       "      <th>375</th>\n",
       "      <td>zul_Latn</td>\n",
       "      <td>Umbuzo: Uma kunemoto emithathu endaweni yokupa...</td>\n",
       "      <td>Impendulo Yezinyathelo Ngezinyathelo: Ekuqalen...</td>\n",
       "    </tr>\n",
       "  </tbody>\n",
       "</table>\n",
       "<p>464 rows × 3 columns</p>\n",
       "</div>"
      ],
      "text/plain": [
       "     language                                           question  \\\n",
       "0    eng_Latn  Question: Roger has 5 tennis balls. He buys 2 ...   \n",
       "1    eng_Latn  Question: There were nine computers in the ser...   \n",
       "2    eng_Latn  Question: Leah had 32 chocolates and her siste...   \n",
       "3    eng_Latn  Question: Shawn has five toys. For Christmas, ...   \n",
       "4    eng_Latn  Question: Michael had 58 golf balls. On tuesda...   \n",
       "..        ...                                                ...   \n",
       "371  zul_Latn  Umbuzo: UShawn unamathoyizi amahlanu. NgoKhisi...   \n",
       "372  zul_Latn  Umbuzo: UMichael wayenezinkuni zegalofu ezingu...   \n",
       "373  zul_Latn  Umbuzo: U-Olivia unama-dollar angu-23. Watheng...   \n",
       "374  zul_Latn  Umbuzo: UJason wayene-lolipops engu-20. Wanika...   \n",
       "375  zul_Latn  Umbuzo: Uma kunemoto emithathu endaweni yokupa...   \n",
       "\n",
       "                                                answer  \n",
       "0    Step-by-Step Answer: Roger started with 5 ball...  \n",
       "1    Step-by-Step Answer: There are 4 days from mon...  \n",
       "2    Step-by-Step Answer: Leah had 32 chocolates an...  \n",
       "3    Step-by-Step Answer: He has 5 toys. He got 2 f...  \n",
       "4    Step-by-Step Answer: Michael started with 58 g...  \n",
       "..                                                 ...  \n",
       "371  Impendulo Yezinyathelo Ngezinyathelo: Unamatho...  \n",
       "372  Impendulo Yezinyathelo Ngezinyathelo: UMichael...  \n",
       "373  Impendulo Eyisinyathelo-Ngesinyathelo: Ama - b...  \n",
       "374  Impendulo Elula: UJason waqala enama - lollipo...  \n",
       "375  Impendulo Yezinyathelo Ngezinyathelo: Ekuqalen...  \n",
       "\n",
       "[464 rows x 3 columns]"
      ]
     },
     "execution_count": 5,
     "metadata": {},
     "output_type": "execute_result"
    }
   ],
   "source": [
    "merged_df = pd.concat([df, exemplars])\n",
    "\n",
    "df.to_csv('mgsm_exemplars_original.csv', sep=';', index=False, header=True)"
   ]
  },
  {
   "cell_type": "code",
   "execution_count": 1,
   "metadata": {},
   "outputs": [
    {
     "data": {
      "text/plain": [
       "20"
      ]
     },
     "execution_count": 1,
     "metadata": {},
     "output_type": "execute_result"
    }
   ],
   "source": [
    "\n",
    "len(['bul_Cyrl','cat_Latn','ces_Latn','dan_Latn','fin_Latn','hrv_Latn','hun_Latn','ind_Latn','ita_Latn','kor_Hang','nld_Latn','nno_Latn','pol_Latn','por_Latn','ron_Latn','slv_Latn','srp_Cyrl','swe_Latn','ukr_Cyrl','vie_Latn'])"
   ]
  },
  {
   "cell_type": "code",
   "execution_count": 17,
   "metadata": {},
   "outputs": [
    {
     "data": {
      "text/html": [
       "<div>\n",
       "<style scoped>\n",
       "    .dataframe tbody tr th:only-of-type {\n",
       "        vertical-align: middle;\n",
       "    }\n",
       "\n",
       "    .dataframe tbody tr th {\n",
       "        vertical-align: top;\n",
       "    }\n",
       "\n",
       "    .dataframe thead th {\n",
       "        text-align: right;\n",
       "    }\n",
       "</style>\n",
       "<table border=\"1\" class=\"dataframe\">\n",
       "  <thead>\n",
       "    <tr style=\"text-align: right;\">\n",
       "      <th></th>\n",
       "      <th>0</th>\n",
       "    </tr>\n",
       "  </thead>\n",
       "  <tbody>\n",
       "    <tr>\n",
       "      <th>0</th>\n",
       "      <td>Response: \\n\\nAnswer:\\n\\nJanet sells 16 - 3 = ...</td>\n",
       "    </tr>\n",
       "    <tr>\n",
       "      <th>1</th>\n",
       "      <td>Response: \\n\\nAnswer:\\n\\nTo make a robe, you n...</td>\n",
       "    </tr>\n",
       "    <tr>\n",
       "      <th>2</th>\n",
       "      <td>Response: \\n\\nAnswer:\\n\\n$80,000 (purchase pri...</td>\n",
       "    </tr>\n",
       "    <tr>\n",
       "      <th>3</th>\n",
       "      <td>Response: \\n\\nAnswer: 180 meters (60 meters x ...</td>\n",
       "    </tr>\n",
       "    <tr>\n",
       "      <th>4</th>\n",
       "      <td>Response: \\n\\nAnswer: Wendi needs to give her ...</td>\n",
       "    </tr>\n",
       "    <tr>\n",
       "      <th>...</th>\n",
       "      <td>...</td>\n",
       "    </tr>\n",
       "    <tr>\n",
       "      <th>245</th>\n",
       "      <td>Response: \\n\\nAnswer:\\n\\nLet's call the number...</td>\n",
       "    </tr>\n",
       "    <tr>\n",
       "      <th>246</th>\n",
       "      <td>Response: \\n\\nAnswer:\\n\\nJean pays $250 x 6 ho...</td>\n",
       "    </tr>\n",
       "    <tr>\n",
       "      <th>247</th>\n",
       "      <td>Response:</td>\n",
       "    </tr>\n",
       "    <tr>\n",
       "      <th>248</th>\n",
       "      <td>Response: \\n\\nAnswer:\\nThe chef spent $600 on ...</td>\n",
       "    </tr>\n",
       "    <tr>\n",
       "      <th>249</th>\n",
       "      <td>Response: \\n\\nAnswer:\\n\\nLet's start by identi...</td>\n",
       "    </tr>\n",
       "  </tbody>\n",
       "</table>\n",
       "<p>250 rows × 1 columns</p>\n",
       "</div>"
      ],
      "text/plain": [
       "                                                     0\n",
       "0    Response: \\n\\nAnswer:\\n\\nJanet sells 16 - 3 = ...\n",
       "1    Response: \\n\\nAnswer:\\n\\nTo make a robe, you n...\n",
       "2    Response: \\n\\nAnswer:\\n\\n$80,000 (purchase pri...\n",
       "3    Response: \\n\\nAnswer: 180 meters (60 meters x ...\n",
       "4    Response: \\n\\nAnswer: Wendi needs to give her ...\n",
       "..                                                 ...\n",
       "245  Response: \\n\\nAnswer:\\n\\nLet's call the number...\n",
       "246  Response: \\n\\nAnswer:\\n\\nJean pays $250 x 6 ho...\n",
       "247                                         Response: \n",
       "248  Response: \\n\\nAnswer:\\nThe chef spent $600 on ...\n",
       "249  Response: \\n\\nAnswer:\\n\\nLet's start by identi...\n",
       "\n",
       "[250 rows x 1 columns]"
      ]
     },
     "execution_count": 17,
     "metadata": {},
     "output_type": "execute_result"
    }
   ],
   "source": [
    "response = pd.read_csv('../results/response_mgsm_English_basic_0-shot_English.csv',sep=';',header=None)\n",
    "response.rename(columns={0:'response'},inplace=True)\n",
    "response"
   ]
  },
  {
   "cell_type": "code",
   "execution_count": 19,
   "metadata": {},
   "outputs": [
    {
     "name": "stderr",
     "output_type": "stream",
     "text": [
      "C:\\Users\\maras\\AppData\\Local\\Temp\\ipykernel_31364\\35849931.py:1: FutureWarning: DataFrame.applymap has been deprecated. Use DataFrame.map instead.\n",
      "  response = response.applymap(lambda x: x.replace('\\n', ' ') if isinstance(x, str) else x)\n"
     ]
    }
   ],
   "source": [
    "response = response.applymap(lambda x: x.replace('\\n', ' ') if isinstance(x, str) else x)"
   ]
  },
  {
   "cell_type": "code",
   "execution_count": 20,
   "metadata": {},
   "outputs": [
    {
     "data": {
      "text/html": [
       "<div>\n",
       "<style scoped>\n",
       "    .dataframe tbody tr th:only-of-type {\n",
       "        vertical-align: middle;\n",
       "    }\n",
       "\n",
       "    .dataframe tbody tr th {\n",
       "        vertical-align: top;\n",
       "    }\n",
       "\n",
       "    .dataframe thead th {\n",
       "        text-align: right;\n",
       "    }\n",
       "</style>\n",
       "<table border=\"1\" class=\"dataframe\">\n",
       "  <thead>\n",
       "    <tr style=\"text-align: right;\">\n",
       "      <th></th>\n",
       "      <th>response</th>\n",
       "    </tr>\n",
       "  </thead>\n",
       "  <tbody>\n",
       "    <tr>\n",
       "      <th>0</th>\n",
       "      <td>Response:   Answer:  Janet sells 16 - 3 = 13 e...</td>\n",
       "    </tr>\n",
       "    <tr>\n",
       "      <th>1</th>\n",
       "      <td>Response:   Answer:  To make a robe, you need ...</td>\n",
       "    </tr>\n",
       "    <tr>\n",
       "      <th>2</th>\n",
       "      <td>Response:   Answer:  $80,000 (purchase price) ...</td>\n",
       "    </tr>\n",
       "    <tr>\n",
       "      <th>3</th>\n",
       "      <td>Response:   Answer: 180 meters (60 meters x 3 ...</td>\n",
       "    </tr>\n",
       "    <tr>\n",
       "      <th>4</th>\n",
       "      <td>Response:   Answer: Wendi needs to give her ch...</td>\n",
       "    </tr>\n",
       "    <tr>\n",
       "      <th>...</th>\n",
       "      <td>...</td>\n",
       "    </tr>\n",
       "    <tr>\n",
       "      <th>245</th>\n",
       "      <td>Response:   Answer:  Let's call the number of ...</td>\n",
       "    </tr>\n",
       "    <tr>\n",
       "      <th>246</th>\n",
       "      <td>Response:   Answer:  Jean pays $250 x 6 hours/...</td>\n",
       "    </tr>\n",
       "    <tr>\n",
       "      <th>247</th>\n",
       "      <td>Response:</td>\n",
       "    </tr>\n",
       "    <tr>\n",
       "      <th>248</th>\n",
       "      <td>Response:   Answer: The chef spent $600 on oni...</td>\n",
       "    </tr>\n",
       "    <tr>\n",
       "      <th>249</th>\n",
       "      <td>Response:   Answer:  Let's start by identifyin...</td>\n",
       "    </tr>\n",
       "  </tbody>\n",
       "</table>\n",
       "<p>250 rows × 1 columns</p>\n",
       "</div>"
      ],
      "text/plain": [
       "                                              response\n",
       "0    Response:   Answer:  Janet sells 16 - 3 = 13 e...\n",
       "1    Response:   Answer:  To make a robe, you need ...\n",
       "2    Response:   Answer:  $80,000 (purchase price) ...\n",
       "3    Response:   Answer: 180 meters (60 meters x 3 ...\n",
       "4    Response:   Answer: Wendi needs to give her ch...\n",
       "..                                                 ...\n",
       "245  Response:   Answer:  Let's call the number of ...\n",
       "246  Response:   Answer:  Jean pays $250 x 6 hours/...\n",
       "247                                         Response: \n",
       "248  Response:   Answer: The chef spent $600 on oni...\n",
       "249  Response:   Answer:  Let's start by identifyin...\n",
       "\n",
       "[250 rows x 1 columns]"
      ]
     },
     "execution_count": 20,
     "metadata": {},
     "output_type": "execute_result"
    }
   ],
   "source": [
    "response"
   ]
  },
  {
   "cell_type": "code",
   "execution_count": 21,
   "metadata": {},
   "outputs": [
    {
     "ename": "TypeError",
     "evalue": "extract_answer() missing 1 required positional argument: 'inputstring'",
     "output_type": "error",
     "traceback": [
      "\u001b[1;31m---------------------------------------------------------------------------\u001b[0m",
      "\u001b[1;31mTypeError\u001b[0m                                 Traceback (most recent call last)",
      "Cell \u001b[1;32mIn [21], line 1\u001b[0m\n\u001b[1;32m----> 1\u001b[0m response[\u001b[38;5;124m'\u001b[39m\u001b[38;5;124manswer\u001b[39m\u001b[38;5;124m'\u001b[39m] \u001b[38;5;241m=\u001b[39m response\u001b[38;5;241m.\u001b[39mapply(extract_answer(), axis\u001b[38;5;241m=\u001b[39m\u001b[38;5;241m1\u001b[39m)\n\u001b[0;32m      2\u001b[0m response\n",
      "\u001b[1;31mTypeError\u001b[0m: extract_answer() missing 1 required positional argument: 'inputstring'"
     ]
    }
   ],
   "source": [
    "response['answer'] = response.apply(extract_answer(), axis=1)\n",
    "response"
   ]
  },
  {
   "cell_type": "code",
   "execution_count": 26,
   "metadata": {},
   "outputs": [
    {
     "data": {
      "text/plain": [
       "'26'"
      ]
     },
     "execution_count": 26,
     "metadata": {},
     "output_type": "execute_result"
    }
   ],
   "source": [
    "extract_answer(response.iloc[0,0])"
   ]
  },
  {
   "cell_type": "code",
   "execution_count": 25,
   "metadata": {},
   "outputs": [
    {
     "data": {
      "text/plain": [
       "\"Response:   Answer:  Janet sells 16 - 3 = 13 eggs per day at the farmers' market.  At $2 per egg, she makes $2 x 13 = $26 per day at the farmers' market.\""
      ]
     },
     "execution_count": 25,
     "metadata": {},
     "output_type": "execute_result"
    }
   ],
   "source": [
    "response.iloc[0,0]"
   ]
  },
  {
   "cell_type": "code",
   "execution_count": 17,
   "metadata": {},
   "outputs": [
    {
     "name": "stdout",
     "output_type": "stream",
     "text": [
      "   language                                           question  \\\n",
      "1  eng_Latn  Question: There were nine computers in the ser...   \n",
      "6  eng_Latn  Question: Jason had 20 lollipops. He gave Denn...   \n",
      "4  eng_Latn  Question: Michael had 58 golf balls. On tuesda...   \n",
      "3  eng_Latn  Question: Shawn has five toys. For Christmas, ...   \n",
      "\n",
      "                                              answer  \n",
      "1  Step-by-Step Answer: There are 4 days from mon...  \n",
      "6  Step-by-Step Answer: Jason started with 20 lol...  \n",
      "4  Step-by-Step Answer: Michael started with 58 g...  \n",
      "3  Step-by-Step Answer: He has 5 toys. He got 2 f...  \n",
      " Question: There were nine computers in the server room. Five more computers were installed each day, from monday to thursday. How many computers are now in the server room? Step-by-Step Answer: There are 4 days from monday to thursday. 5 computers were added each day. That means in total 4 * 5 = 20 computers were added. There were 9 computers in the beginning, so now there are 9 + 20 = 29 computers. The answer is 29. Question: Jason had 20 lollipops. He gave Denny some lollipops. Now Jason has 12 lollipops. How many lollipops did Jason give to Denny? Step-by-Step Answer: Jason started with 20 lollipops, but now he only has 12, so he gave Denny 20 - 12 = 8 lollipops. The answer is 8. Question: Michael had 58 golf balls. On tuesday, he lost 23 golf balls. On wednesday, he lost 2 more. How many golf balls did he have at the end of wednesday? Step-by-Step Answer: Michael started with 58 golf balls and lost 23, so he has 58 - 23 = 35. After he lost 2 more, he has 35 - 2 = 33 balls now. The answer is 33. Question: Shawn has five toys. For Christmas, he got two toys each from his mom and dad. How many toys does he have now? Step-by-Step Answer: He has 5 toys. He got 2 from mom, so after that he has 5 + 2 = 7 toys. Then he got 2 more from dad, so in total he has 7 + 2 = 9 toys. The answer is 9.\n"
     ]
    }
   ],
   "source": [
    "import pandas as pd\n",
    "nr_shots = 4\n",
    "exemplars = pd.read_csv('../datasets/mgsm/mgsm_exemplars_llama2.csv', sep=';')\n",
    "exemplars = exemplars[exemplars['language'] == 'eng_Latn'] # select target language exemplars\n",
    "\n",
    "exemplar_string = ''\n",
    "if 0 <= nr_shots <= len(exemplars):\n",
    "    sampled_exemplars = exemplars.sample(n=nr_shots, random_state=2024)\n",
    "    print(sampled_exemplars)\n",
    "            \n",
    "    for _, row in sampled_exemplars.iterrows():\n",
    "        exemplar_string += ' ' + row.iloc[1] + ' ' + row.iloc[2]\n",
    "print(exemplar_string)"
   ]
  },
  {
   "cell_type": "code",
   "execution_count": null,
   "metadata": {},
   "outputs": [],
   "source": []
  },
  {
   "cell_type": "code",
   "execution_count": null,
   "metadata": {},
   "outputs": [],
   "source": []
  }
 ],
 "metadata": {
  "kernelspec": {
   "display_name": "llama",
   "language": "python",
   "name": "python3"
  },
  "language_info": {
   "codemirror_mode": {
    "name": "ipython",
    "version": 3
   },
   "file_extension": ".py",
   "mimetype": "text/x-python",
   "name": "python",
   "nbconvert_exporter": "python",
   "pygments_lexer": "ipython3",
   "version": "3.10.13"
  }
 },
 "nbformat": 4,
 "nbformat_minor": 2
}
