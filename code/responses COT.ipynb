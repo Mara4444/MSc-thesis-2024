{
 "cells": [
  {
   "cell_type": "code",
   "execution_count": 1,
   "metadata": {},
   "outputs": [
    {
     "name": "stderr",
     "output_type": "stream",
     "text": [
      "c:\\Users\\maras\\anaconda3\\envs\\llama\\lib\\site-packages\\tqdm\\auto.py:21: TqdmWarning: IProgress not found. Please update jupyter and ipywidgets. See https://ipywidgets.readthedocs.io/en/stable/user_install.html\n",
      "  from .autonotebook import tqdm as notebook_tqdm\n"
     ]
    }
   ],
   "source": [
    "# from src.translation_utils import *\n",
    "from src.dataset_utils import *\n",
    "from src.cot_utils import *"
   ]
  },
  {
   "cell_type": "code",
   "execution_count": 2,
   "metadata": {},
   "outputs": [],
   "source": [
    "import seaborn as sns\n",
    "import matplotlib.pyplot as plt"
   ]
  },
  {
   "cell_type": "code",
   "execution_count": 3,
   "metadata": {},
   "outputs": [],
   "source": [
    "mgsm = get_dataset_df(\"mgsm\",\"en\")\n",
    "xcopa = get_dataset_df(\"xcopa\",\"en\")\n",
    "msvamp = get_dataset_df(\"msvamp\",\"en\")"
   ]
  },
  {
   "cell_type": "code",
   "execution_count": 7,
   "metadata": {},
   "outputs": [
    {
     "name": "stdout",
     "output_type": "stream",
     "text": [
      "Dataset name is not correctly specified. Please input 'mgsm', 'msvamp' or 'xcopa'.\n"
     ]
    }
   ],
   "source": [
    "coinflip = get_dataset_df(\"coinflip\",\"eng_Latn\")\n"
   ]
  },
  {
   "cell_type": "code",
   "execution_count": null,
   "metadata": {},
   "outputs": [],
   "source": [
    "shuffled_objects = get_dataset_df(\"shuffled_objects\",\"eng_Latn\")"
   ]
  },
  {
   "cell_type": "markdown",
   "metadata": {},
   "source": [
    "For Llama-2 English dataset with English instruction basic vs CoT:\n",
    "1) XCOPA (commonsense)\n",
    "2) MGSM (arithmetic)\n",
    "3) MSVAMP (arithmetic)\n",
    "4) Coinflip (symbolic)\n",
    "5) Shuffled objects (other)"
   ]
  },
  {
   "cell_type": "markdown",
   "metadata": {},
   "source": [
    "### Basic vs CoT (English instruction)"
   ]
  },
  {
   "cell_type": "code",
   "execution_count": 4,
   "metadata": {},
   "outputs": [
    {
     "name": "stdout",
     "output_type": "stream",
     "text": [
      "-------XCOPA-------\n",
      "69.0\n",
      "62.6\n",
      "-------MGSM-------\n",
      "14.0\n",
      "22.0\n",
      "-------MSVAMP-------\n",
      "33.7\n",
      "37.8\n",
      "-------coinflip-------\n",
      "-------shuffled objects-------\n"
     ]
    }
   ],
   "source": [
    "print('-------XCOPA-------')\n",
    "print(get_results_xcopa(xcopa,response_loc=\"../results/xcopa/llama/llama-2-7b_xcopa_English_basic_instr_English.csv\"))\n",
    "print(get_results_xcopa(xcopa,response_loc=\"../results/xcopa/llama/llama-2-7b_xcopa_English_cot_instr_English.csv\"))\n",
    "\n",
    "print('-------MGSM-------')\n",
    "print(get_results(mgsm,response_loc=\"../results/mgsm/llama2-7b_mgsm_English_basic_instr_English.csv\"))\n",
    "print(get_results(mgsm,response_loc=\"../results/mgsm/llama2-7b_mgsm_English_cot_instr_English.csv\"))\n",
    "\n",
    "print('-------MSVAMP-------')\n",
    "print(get_results(msvamp,response_loc='../results/msvamp/llama2-7b_msvamp_English_basic_instr_English.csv'))\n",
    "print(get_results(msvamp,response_loc='../results/msvamp/llama2-7b_msvamp_English_cot_instr_English.csv'))\n",
    "\n",
    "print('-------coinflip-------')\n",
    "\n",
    "print('-------shuffled objects-------')\n",
    "\n",
    "\n"
   ]
  }
 ],
 "metadata": {
  "kernelspec": {
   "display_name": "llama",
   "language": "python",
   "name": "python3"
  },
  "language_info": {
   "codemirror_mode": {
    "name": "ipython",
    "version": 3
   },
   "file_extension": ".py",
   "mimetype": "text/x-python",
   "name": "python",
   "nbconvert_exporter": "python",
   "pygments_lexer": "ipython3",
   "version": "3.10.13"
  }
 },
 "nbformat": 4,
 "nbformat_minor": 2
}
