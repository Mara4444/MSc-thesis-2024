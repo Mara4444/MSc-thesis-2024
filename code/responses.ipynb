{
 "cells": [
  {
   "cell_type": "code",
   "execution_count": 1,
   "metadata": {},
   "outputs": [
    {
     "name": "stderr",
     "output_type": "stream",
     "text": [
      "c:\\Users\\maras\\anaconda3\\envs\\llama\\lib\\site-packages\\tqdm\\auto.py:21: TqdmWarning: IProgress not found. Please update jupyter and ipywidgets. See https://ipywidgets.readthedocs.io/en/stable/user_install.html\n",
      "  from .autonotebook import tqdm as notebook_tqdm\n"
     ]
    }
   ],
   "source": [
    "# from src.translation_utils import *\n",
    "from src.dataset_utils import *\n",
    "from src.cot_utils import *"
   ]
  },
  {
   "cell_type": "code",
   "execution_count": 2,
   "metadata": {},
   "outputs": [],
   "source": [
    "mgsm = get_dataset_df(\"mgsm\",\"en\")"
   ]
  },
  {
   "cell_type": "code",
   "execution_count": 3,
   "metadata": {},
   "outputs": [
    {
     "data": {
      "text/html": [
       "<div>\n",
       "<style scoped>\n",
       "    .dataframe tbody tr th:only-of-type {\n",
       "        vertical-align: middle;\n",
       "    }\n",
       "\n",
       "    .dataframe tbody tr th {\n",
       "        vertical-align: top;\n",
       "    }\n",
       "\n",
       "    .dataframe thead th {\n",
       "        text-align: right;\n",
       "    }\n",
       "</style>\n",
       "<table border=\"1\" class=\"dataframe\">\n",
       "  <thead>\n",
       "    <tr style=\"text-align: right;\">\n",
       "      <th></th>\n",
       "      <th>question</th>\n",
       "      <th>answer_number</th>\n",
       "    </tr>\n",
       "  </thead>\n",
       "  <tbody>\n",
       "    <tr>\n",
       "      <th>0</th>\n",
       "      <td>Janet’s ducks lay 16 eggs per day. She eats th...</td>\n",
       "      <td>18</td>\n",
       "    </tr>\n",
       "    <tr>\n",
       "      <th>1</th>\n",
       "      <td>A robe takes 2 bolts of blue fiber and half th...</td>\n",
       "      <td>3</td>\n",
       "    </tr>\n",
       "    <tr>\n",
       "      <th>2</th>\n",
       "      <td>Josh decides to try flipping a house.  He buys...</td>\n",
       "      <td>70000</td>\n",
       "    </tr>\n",
       "    <tr>\n",
       "      <th>3</th>\n",
       "      <td>James decides to run 3 sprints 3 times a week....</td>\n",
       "      <td>540</td>\n",
       "    </tr>\n",
       "    <tr>\n",
       "      <th>4</th>\n",
       "      <td>Every day, Wendi feeds each of her chickens th...</td>\n",
       "      <td>20</td>\n",
       "    </tr>\n",
       "    <tr>\n",
       "      <th>...</th>\n",
       "      <td>...</td>\n",
       "      <td>...</td>\n",
       "    </tr>\n",
       "    <tr>\n",
       "      <th>245</th>\n",
       "      <td>There are 4 snails in one aquarium and 32 snai...</td>\n",
       "      <td>7</td>\n",
       "    </tr>\n",
       "    <tr>\n",
       "      <th>246</th>\n",
       "      <td>Jeans makeup artist charges her $250 an hour. ...</td>\n",
       "      <td>27000</td>\n",
       "    </tr>\n",
       "    <tr>\n",
       "      <th>247</th>\n",
       "      <td>Isabelle bought party supplies for her little ...</td>\n",
       "      <td>32</td>\n",
       "    </tr>\n",
       "    <tr>\n",
       "      <th>248</th>\n",
       "      <td>A chef bought 4 bags of onions. Each bag weigh...</td>\n",
       "      <td>300</td>\n",
       "    </tr>\n",
       "    <tr>\n",
       "      <th>249</th>\n",
       "      <td>On Monday, Sue ate 4 times as many cookies as ...</td>\n",
       "      <td>5600</td>\n",
       "    </tr>\n",
       "  </tbody>\n",
       "</table>\n",
       "<p>250 rows × 2 columns</p>\n",
       "</div>"
      ],
      "text/plain": [
       "                                              question  answer_number\n",
       "0    Janet’s ducks lay 16 eggs per day. She eats th...             18\n",
       "1    A robe takes 2 bolts of blue fiber and half th...              3\n",
       "2    Josh decides to try flipping a house.  He buys...          70000\n",
       "3    James decides to run 3 sprints 3 times a week....            540\n",
       "4    Every day, Wendi feeds each of her chickens th...             20\n",
       "..                                                 ...            ...\n",
       "245  There are 4 snails in one aquarium and 32 snai...              7\n",
       "246  Jeans makeup artist charges her $250 an hour. ...          27000\n",
       "247  Isabelle bought party supplies for her little ...             32\n",
       "248  A chef bought 4 bags of onions. Each bag weigh...            300\n",
       "249  On Monday, Sue ate 4 times as many cookies as ...           5600\n",
       "\n",
       "[250 rows x 2 columns]"
      ]
     },
     "execution_count": 3,
     "metadata": {},
     "output_type": "execute_result"
    }
   ],
   "source": [
    "mgsm"
   ]
  },
  {
   "cell_type": "code",
   "execution_count": 4,
   "metadata": {},
   "outputs": [],
   "source": [
    "def extract_answer(inputstring):\n",
    "    \"\"\"\n",
    "    Finds the last mentioned number in a string.\n",
    "    \n",
    "    Parameters:\n",
    "    input: string.\n",
    "\n",
    "    Returns:\n",
    "    String value of the last mentioned number.\n",
    "    \"\"\"\n",
    "    # Regular expression to find 'the answer is ' followed by a number\n",
    "    #### how to do this for any language? dict?\n",
    "    match = re.search(r'the answer is (\\b\\d+(?:[,.]\\d+)?\\b)', inputstring,re.IGNORECASE)\n",
    "\n",
    "    if match:\n",
    "        # Extract the number after 'the answer is'\n",
    "        number = match.group(1)\n",
    "        return number\n",
    "    else:\n",
    "        numberlist = re.findall(r'\\b\\d+(?:[,.]\\d+)?\\b',inputstring)\n",
    "        if len(numberlist) != 0:\n",
    "            return numberlist[-1]\n",
    "        else:\n",
    "            return None"
   ]
  },
  {
   "cell_type": "code",
   "execution_count": null,
   "metadata": {},
   "outputs": [],
   "source": [
    "response = pd.read_csv('../results/llama2_mgsm_English_basic_0-shot_English.csv',sep=';',header=None)\n",
    "response.rename(columns={0:'response'},inplace=True)\n",
    "response = response.applymap(lambda x: x.replace('\\n', ' ') if isinstance(x, str) else x)\n",
    "\n",
    "answer_list = []\n",
    "\n",
    "for i in range(len(response)):\n",
    "    answer = extract_answer(response.iloc[i,0])\n",
    "    if answer is not None:\n",
    "        answer = answer.replace(',', '')\n",
    "    answer_list.append(answer)\n",
    "\n",
    "response['answer'] = answer_list\n",
    "response['answer'] = pd.to_numeric(response['answer'], errors='coerce')\n",
    "response\n"
   ]
  },
  {
   "cell_type": "code",
   "execution_count": null,
   "metadata": {},
   "outputs": [],
   "source": [
    "response['answer'].isna().sum()"
   ]
  },
  {
   "cell_type": "code",
   "execution_count": null,
   "metadata": {},
   "outputs": [],
   "source": [
    "calculate_accuracy(mgsm,response)"
   ]
  },
  {
   "cell_type": "code",
   "execution_count": null,
   "metadata": {},
   "outputs": [],
   "source": [
    "response = pd.read_csv('../results/llama2_mgsm_English_basic_1-shot_English.csv',sep=';',header=None)\n",
    "response.rename(columns={0:'response'},inplace=True)\n",
    "response = response.applymap(lambda x: x.replace('\\n', ' ') if isinstance(x, str) else x)\n",
    "\n",
    "answer_list = []\n",
    "\n",
    "for i in range(len(response)):\n",
    "    answer = extract_answer(response.iloc[i,0])\n",
    "    if answer is not None:\n",
    "        answer = answer.replace(',', '')\n",
    "    answer_list.append(answer)\n",
    "\n",
    "response['answer'] = answer_list\n",
    "response['answer'] = pd.to_numeric(response['answer'], errors='coerce')\n",
    "response"
   ]
  },
  {
   "cell_type": "code",
   "execution_count": null,
   "metadata": {},
   "outputs": [],
   "source": [
    "response['answer'].isna().sum()"
   ]
  },
  {
   "cell_type": "code",
   "execution_count": null,
   "metadata": {},
   "outputs": [],
   "source": [
    "calculate_accuracy(mgsm,response)"
   ]
  },
  {
   "cell_type": "code",
   "execution_count": null,
   "metadata": {},
   "outputs": [],
   "source": [
    "response = pd.read_csv('../results/bloomz_mgsm_English_basic_0-shot_English.csv',sep=';',header=None)\n",
    "response.rename(columns={0:'response'},inplace=True)\n",
    "response = response.map(lambda x: x.replace('\\n', ' ') if isinstance(x, str) else x)\n",
    "\n",
    "answer_list = []\n",
    "\n",
    "for i in range(len(response)):\n",
    "    answer = extract_answer(response.iloc[i,0])\n",
    "    if answer is not None:\n",
    "        answer = answer.replace(',', '')\n",
    "    answer_list.append(answer)\n",
    "\n",
    "response['answer'] = answer_list\n",
    "response['answer'] = pd.to_numeric(response['answer'], errors='coerce')\n",
    "\n",
    "print('Missing values:',response['answer'].isna().sum())\n",
    "print('Accuracy:',calculate_accuracy(mgsm,response))"
   ]
  },
  {
   "cell_type": "code",
   "execution_count": null,
   "metadata": {},
   "outputs": [],
   "source": [
    "response = pd.read_csv('../results/bloomz_mgsm_English_basic_1-shot_English.csv',sep=';',header=None)\n",
    "response.rename(columns={0:'response'},inplace=True)\n",
    "response = response.map(lambda x: x.replace('\\n', ' ') if isinstance(x, str) else x)\n",
    "\n",
    "answer_list = []\n",
    "\n",
    "for i in range(len(response)):\n",
    "    answer = extract_answer(response.iloc[i,0])\n",
    "    if answer is not None:\n",
    "        answer = answer.replace(',', '')\n",
    "    answer_list.append(answer)\n",
    "\n",
    "response['answer'] = answer_list\n",
    "response['answer'] = pd.to_numeric(response['answer'], errors='coerce')\n",
    "response\n",
    "# print('Missing values:',response['answer'].isna().sum())\n",
    "# print('Accuracy:',calculate_accuracy(mgsm,response))"
   ]
  },
  {
   "cell_type": "code",
   "execution_count": 5,
   "metadata": {},
   "outputs": [
    {
     "name": "stdout",
     "output_type": "stream",
     "text": [
      "Missing values: 57\n",
      "Accuracy: 0.0\n"
     ]
    }
   ],
   "source": [
    "response = pd.read_csv('../results/bloomz_mgsm_English_basic_2-shot_English.csv',sep=';',header=None)\n",
    "response.rename(columns={0:'response'},inplace=True)\n",
    "response = response.map(lambda x: x.replace('\\n', ' ') if isinstance(x, str) else x)\n",
    "\n",
    "answer_list = []\n",
    "\n",
    "for i in range(len(response)):\n",
    "    answer = extract_answer(response.iloc[i,0])\n",
    "    if answer is not None:\n",
    "        answer = answer.replace(',', '')\n",
    "    answer_list.append(answer)\n",
    "\n",
    "response['answer'] = answer_list\n",
    "response['answer'] = pd.to_numeric(response['answer'], errors='coerce')\n",
    "# response\n",
    "print('Missing values:',response['answer'].isna().sum())\n",
    "print('Accuracy:',calculate_accuracy(mgsm,response))"
   ]
  },
  {
   "cell_type": "code",
   "execution_count": null,
   "metadata": {},
   "outputs": [],
   "source": []
  }
 ],
 "metadata": {
  "kernelspec": {
   "display_name": "llama",
   "language": "python",
   "name": "python3"
  },
  "language_info": {
   "codemirror_mode": {
    "name": "ipython",
    "version": 3
   },
   "file_extension": ".py",
   "mimetype": "text/x-python",
   "name": "python",
   "nbconvert_exporter": "python",
   "pygments_lexer": "ipython3",
   "version": "3.10.13"
  }
 },
 "nbformat": 4,
 "nbformat_minor": 2
}
