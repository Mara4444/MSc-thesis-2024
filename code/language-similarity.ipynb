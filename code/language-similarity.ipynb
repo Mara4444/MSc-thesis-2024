{
 "cells": [
  {
   "cell_type": "markdown",
   "metadata": {},
   "source": [
    "# Import packages"
   ]
  },
  {
   "cell_type": "code",
   "execution_count": 2,
   "metadata": {},
   "outputs": [
    {
     "ename": "ModuleNotFoundError",
     "evalue": "No module named 'src.language_similarity_utils'",
     "output_type": "error",
     "traceback": [
      "\u001b[1;31m---------------------------------------------------------------------------\u001b[0m",
      "\u001b[1;31mModuleNotFoundError\u001b[0m                       Traceback (most recent call last)",
      "Cell \u001b[1;32mIn[2], line 4\u001b[0m\n\u001b[0;32m      2\u001b[0m \u001b[38;5;28;01mimport\u001b[39;00m \u001b[38;5;21;01mmatplotlib\u001b[39;00m\u001b[38;5;21;01m.\u001b[39;00m\u001b[38;5;21;01mpyplot\u001b[39;00m \u001b[38;5;28;01mas\u001b[39;00m \u001b[38;5;21;01mplt\u001b[39;00m\n\u001b[0;32m      3\u001b[0m \u001b[38;5;28;01mimport\u001b[39;00m \u001b[38;5;21;01mmath\u001b[39;00m\n\u001b[1;32m----> 4\u001b[0m \u001b[38;5;28;01mfrom\u001b[39;00m \u001b[38;5;21;01msrc\u001b[39;00m\u001b[38;5;21;01m.\u001b[39;00m\u001b[38;5;21;01mlanguage_similarity_utils\u001b[39;00m \u001b[38;5;28;01mimport\u001b[39;00m \u001b[38;5;241m*\u001b[39m\n",
      "\u001b[1;31mModuleNotFoundError\u001b[0m: No module named 'src.language_similarity_utils'"
     ]
    }
   ],
   "source": [
    "import pandas as pd\n",
    "import matplotlib.pyplot as plt\n",
    "import math\n",
    "from src.langsim_utils import *"
   ]
  },
  {
   "cell_type": "markdown",
   "metadata": {},
   "source": [
    "# Data cleaning"
   ]
  },
  {
   "cell_type": "markdown",
   "metadata": {},
   "source": [
    "#### Scriptdata"
   ]
  },
  {
   "cell_type": "code",
   "execution_count": 5,
   "metadata": {},
   "outputs": [],
   "source": [
    "# add the language name and code of the above row to the rows with missing values\n",
    "for index, row in scriptdata.iterrows():\n",
    "    if pd.isna(row['Language']):\n",
    "        scriptdata.at[index, 'Language'] = scriptdata.at[index - 1, 'Language']\n",
    "        scriptdata.at[index, 'Code'] = scriptdata.at[index - 1, 'Code']\n",
    "\n",
    "scriptdata = scriptdata.drop(columns=['ML','P','Code.1','MS']) # drop the unnecessary columns\n",
    "scriptdata = scriptdata.groupby(['Language', 'Code'])['Script'].agg(', '.join).reset_index() # group the languages by name and add the different script types\n",
    "\n",
    "scriptdata.rename(columns = {'Language':'Name'}, inplace = True) \n",
    "\n",
    "# Change names that differ in the nllb and wals naming code?\n",
    "scriptdata.loc[scriptdata['Name'] == 'Bangla', 'Name'] = 'Bengali'\n",
    "scriptdata.loc[scriptdata['Name'] == 'Chinese', 'Name'] = 'Mandarin'"
   ]
  },
  {
   "cell_type": "markdown",
   "metadata": {},
   "source": [
    "#### Merge scriptdata with walsdata"
   ]
  },
  {
   "cell_type": "code",
   "execution_count": 6,
   "metadata": {},
   "outputs": [],
   "source": [
    "walsdata = pd.merge(walsdata, scriptdata)"
   ]
  },
  {
   "cell_type": "markdown",
   "metadata": {},
   "source": [
    "#### Select relevant languages"
   ]
  },
  {
   "cell_type": "code",
   "execution_count": null,
   "metadata": {},
   "outputs": [],
   "source": [
    "walsdata_test = walsdata.loc[walsdata['wals_code'].isin(['eng','hin','nep','ben','tel', 'tml', 'cnt','kor','mnd','jpn','vie','lao','tha','khm','brm','mly','ind','bal','phi','nld','afr','fri','ger','nor','fin','dsh','ctl','por','rus','ukr','pol','slo','scr','cze','hun','bul','swa','zul'])]\n",
    "# walsdata_mgsm = walsdata.loc[walsdata['wals_code'].isin(['eng','ben','mnd','fre','ger','jpn','rus','spa','swa','tel','tha'])]\n",
    "# walsdata_xcopa = walsdata.loc[walsdata['wals_code'].isin(['eng','est','hcr','ind','que','tml','tur','vie','mnd','swa','tha'])]\n",
    "# languages_llama2 = ['eng', 'ukr', 'kor', 'ger', 'fre', 'swe', 'chi', 'spa', 'rus', 'dut', 'ita', 'jpn', 'pol', 'por', 'vie', 'cat', 'ser', 'ind', 'cze', 'fin', 'hun', 'nor', 'rom', 'bul', 'dan', 'slo', 'cro'] #llama-2 languages\n",
    "# walsdata_nllb = walsdata.loc[walsdata['wals_code'].isin(['ace','acm','acq',' aeb','af','ajp','ak','als','am','apc','ar','ars','ary','arz','as','ast','awa','ayr','azb','azj','ba','bm','ban','be','bem','bn','bho',' bjn','bo',' bs',' bug',' bg',' ca',' ceb',' cs',' cjk',' ckb',' crh',' cy',' da',' de',' dik',' dyu',' dz',' el',' en',' eo',' et',' eu',' ee',' fo',' fj',' fi',' fon',' fr',' fur',' fuv',' gaz',' gd',' ga',' gl',' gn',' gu',' ht',' ha',' he',' hi',' hne',' hr',' hu',' hy',' ig',' ilo',' id',' is',' it',' jv',' ja',' kab',' kac',' kam',' kn',' ks',' ka',' kk',' kbp',' kea',' khk',' km',' ki',' rw',' ky',' kmb',' kmr',' knc',' kg',' ko',' lo',' lij',' li',' ln ',' lt ',' lmo ',' ltg ',' lb ',' lua ',',' lg\t',' ',' luo\t',',' ',' lu',',' ',' ',',','v',',',' ',' mag ',',' mai\t',' ',' ml ',' mar ',' min ',' mk ',' mt ',' mni ',' mos ',' mi ',' my ',' nl ',' nn ',' nb ',' npi ',' nso',' nus',' ny',' oc',' ory ',' pag ',' pa ',' pap ',' pbt ',' pes ',' plt ',' pl ',' pt ',' prs ',' quy ',' ro ',' rn ',' ru ',' sg ',' sa ',' sat ',' scn ',' shn ',' si ',' sk ',' sl ',' sm','sn',' sd','so','st',' es','sc','sr','ss','su','sv','swh\t','szl','ta','taq',' tt','te','tg','tl','th','ti','tpi','tn','ts','tk','tum','tr','tw\t',' tzm\t',' ug','uk',' umb','ur','uzn','vec','vi',' war','wo','xh','ydd','yo','yue','zh','zsm','zu'])]\n",
    "# NEED TO MAP NLLB languages to ISO-3 or WALSCODE! \n",
    "\n",
    "# Focus on only one family of languages? or one genus? Or variety over the world's languages?\n",
    "# walsdata_indo_eur = walsdata.loc[walsdata['family'] == 'Indo-European']\n",
    "# walsdata_germanic = walsdata.loc[walsdata['genus'] == 'Germanic']\n",
    "# walsdata_romanic = walsdata.loc[walsdata['genus'] == 'Romanic']\n",
    "# walsdata_slavic = walsdata.loc[walsdata['genus'] == 'Slavic']\n"
   ]
  },
  {
   "cell_type": "markdown",
   "metadata": {},
   "source": [
    "#### Select relevant features"
   ]
  },
  {
   "cell_type": "code",
   "execution_count": 7,
   "metadata": {},
   "outputs": [],
   "source": [
    "### feature groups\n",
    "genus = ['genus']\n",
    "family = ['family']\n",
    "phonology = ['1A Consonant Inventories','2A Vowel Quality Inventories','3A Consonant-Vowel Ratio','4A Voicing in Plosives and Fricatives','5A Voicing and Gaps in Plosive Systems','6A Uvular Consonants','7A Glottalized Consonants','8A Lateral Consonants','9A The Velar Nasal','10A Vowel Nasalization','11A Front Rounded Vowels','12A Syllable Structure','13A Tone','14A Fixed Stress Locations','15A Weight-Sensitive Stress','16A Weight Factors in Weight-Sensitive Stress Systems','17A Rhythm Types','18A Absence of Common Consonants','19A Presence of Uncommon Consonants']\n",
    "morphology = ['20A Fusion of Selected Inflectional Formatives','21A Exponence of Selected Inflectional Formatives','22A Inflectional Synthesis of the Verb','23A Locus of Marking in the Clause','24A Locus of Marking in Possessive Noun Phrases','25A Locus of Marking: Whole-language Typology','26A Prefixing vs. Suffixing in Inflectional Morphology','27A Reduplication','28A Case Syncretism','29A Syncretism in Verbal Person/Number Marking']\n",
    "nominal_cat = ['30A Number of Genders','31A Sex-based and Non-sex-based Gender Systems','32A Systems of Gender Assignment','33A Coding of Nominal Plurality','34A Occurrence of Nominal Plurality','35A Plurality in Independent Personal Pronouns','36A The Associative Plural','37A Definite Articles','38A Indefinite Articles','39A Inclusive/Exclusive Distinction in Independent Pronouns','40A Inclusive/Exclusive Distinction in Verbal Inflection','41A Distance Contrasts in Demonstratives','42A Pronominal and Adnominal Demonstratives','43A Third Person Pronouns and Demonstratives','44A Gender Distinctions in Independent Personal Pronouns','45A Politeness Distinctions in Pronouns','46A Indefinite Pronouns','47A Intensifiers and Reflexive Pronouns','48A Person Marking on Adpositions','49A Number of Cases','50A Asymmetrical Case-Marking','51A Position of Case Affixes','52A Comitatives and Instrumentals','53A Ordinal Numerals','54A Distributive Numerals','55A Numeral Classifiers','56A Conjunctions and Universal Quantifiers','57A Position of Pronominal Possessive Affixes']\n",
    "nominal_syn = ['58A Obligatory Possessive Inflection','59A Possessive Classification','60A Genitives, Adjectives and Relative Clauses','61A Adjectives without Nouns','62A Action Nominal Constructions','63A Noun Phrase Conjunction','64A Nominal and Verbal Conjunction']\n",
    "verbal_cat = ['65A Perfective/Imperfective Aspect','66A The Past Tense','67A The Future Tense','68A The Perfect','69A Position of Tense-Aspect Affixes','70A The Morphological Imperative','71A The Prohibitive','72A Imperative-Hortative Systems','73A The Optative','74A Situational Possibility','75A Epistemic Possibility','76A Overlap between Situational and Epistemic Modal Marking','77A Semantic Distinctions of Evidentiality','78A Coding of Evidentiality','79A Suppletion According to Tense and Aspect','80A Verbal Number and Suppletion']\n",
    "wordorder = ['81A Order of Subject, Object and Verb','82A Order of Subject and Verb','83A Order of Object and Verb','84A Order of Object, Oblique, and Verb','85A Order of Adposition and Noun Phrase','86A Order of Genitive and Noun','87A Order of Adjective and Noun','88A Order of Demonstrative and Noun','89A Order of Numeral and Noun','90A Order of Relative Clause and Noun','91A Order of Degree Word and Adjective','92A Position of Polar Question Particles','93A Position of Interrogative Phrases in Content Questions','94A Order of Adverbial Subordinator and Clause','95A Relationship between the Order of Object and Verb and the Order of Adposition and Noun Phrase','96A Relationship between the Order of Object and Verb and the Order of Relative Clause and Noun','97A Relationship between the Order of Object and Verb and the Order of Adjective and Noun','143A Order of Negative Morpheme and Verb','143B Obligatory Double Negation','143C Optional Double Negation','143D Optional Triple Negation','143E Preverbal Negative Morphemes','143F Postverbal Negative Morphemes','143G Minor morphological means of signaling negation','144A Position of Negative Word With Respect to Subject, Object, and Verb','144B Position of negative words relative to beginning and end of clause and with respect to adjacency to verb','144C Languages with different word order in negative clauses','144D The Position of Negative Morphemes in SVO Languages','144E Multiple Negative Constructions in SVO Languages','144F Obligatory Double Negation in SVO languages','144G Optional Double Negation in SVO languages','144H NegSVO Order','144I SNegVO Order','144J SVNegO Order','144K SVONeg Order','144L The Position of Negative Morphemes in SOV Languages','144M Multiple Negative Constructions in SOV Languages','144N Obligatory Double Negation in SOV languages','144O Optional Double Negation in SOV languages','144P NegSOV Order','144Q SNegOV Order','144R SONegV Order','144S SOVNeg Order','144T The Position of Negative Morphemes in Verb-Initial Languages','144U Double negation in verb-initial languages','144V Verb-Initial with Preverbal Negative','144W Verb-Initial with Negative that is Immediately Postverbal or between Subject and Object','144X Verb-Initial with Clause-Final Negative','144Y The Position of Negative Morphemes in Object-Initial Languages']\n",
    "simple_clause = [\"100A Alignment of Verbal Person Marking\",\"101A Expression of Pronominal Subjects\",\"102A Verbal Person Marking\",\"103A Third Person Zero of Verbal Person Marking\",\"104A Order of Person Markers on the Verb\",\"105A Ditransitive Constructions: The Verb 'Give'\",\"106A Reciprocal Constructions\",\"107A Passive Constructions\",\"108A Antipassive Constructions\",\"108B Productivity of the Antipassive Construction\",\"109A Applicative Constructions\",\"109B Other Roles of Applied Objects\",\"110A Periphrastic Causative Constructions\",\"111A Nonperiphrastic Causative Constructions\",\"112A Negative Morphemes\",\"113A Symmetric and Asymmetric Standard Negation\",\"114A Subtypes of Asymmetric Standard Negation\",\"115A Negative Indefinite Pronouns and Predicate Negation\",\"116A Polar Questions\",\"117A Predicative Possession\",\"118A Predicative Adjectives\",\"119A Nominal and Locational Predication\",\"120A Zero Copula for Predicate Nominals\",\"121A Comparative Constructions\"]\n",
    "complex_sentences = [\"122A Relativization on Subjects\",\"123A Relativization on Obliques\",\"124A 'Want' Complement Subjects\",\"125A Purpose Clauses\",\"126A 'When' Clauses\",\"127A Reason Clauses\",\"128A Utterance Complement Clauses\"]\n",
    "lexicon = ['129A Hand and Arm','130A Finger and Hand','131A Numeral Bases','132A Number of Non-Derived Basic Colour Categories','133A Number of Basic Colour Categories','134A Green and Blue','135A Red and Yellow','136A M-T Pronouns','137A N-M Pronouns','138A Tea']\n"
   ]
  },
  {
   "cell_type": "code",
   "execution_count": 8,
   "metadata": {},
   "outputs": [
    {
     "data": {
      "text/html": [
       "<div>\n",
       "<style scoped>\n",
       "    .dataframe tbody tr th:only-of-type {\n",
       "        vertical-align: middle;\n",
       "    }\n",
       "\n",
       "    .dataframe tbody tr th {\n",
       "        vertical-align: top;\n",
       "    }\n",
       "\n",
       "    .dataframe thead th {\n",
       "        text-align: right;\n",
       "    }\n",
       "</style>\n",
       "<table border=\"1\" class=\"dataframe\">\n",
       "  <thead>\n",
       "    <tr style=\"text-align: right;\">\n",
       "      <th></th>\n",
       "      <th>eng</th>\n",
       "      <th>spa</th>\n",
       "      <th>fre</th>\n",
       "      <th>swa</th>\n",
       "      <th>chi</th>\n",
       "      <th>jpn</th>\n",
       "      <th>ben</th>\n",
       "      <th>ger</th>\n",
       "      <th>rus</th>\n",
       "      <th>tel</th>\n",
       "      <th>tha</th>\n",
       "    </tr>\n",
       "  </thead>\n",
       "  <tbody>\n",
       "    <tr>\n",
       "      <th>eng</th>\n",
       "      <td>151</td>\n",
       "      <td>96</td>\n",
       "      <td>94</td>\n",
       "      <td>61</td>\n",
       "      <td>9</td>\n",
       "      <td>52</td>\n",
       "      <td>20</td>\n",
       "      <td>96</td>\n",
       "      <td>101</td>\n",
       "      <td>28</td>\n",
       "      <td>66</td>\n",
       "    </tr>\n",
       "    <tr>\n",
       "      <th>spa</th>\n",
       "      <td>96</td>\n",
       "      <td>147</td>\n",
       "      <td>105</td>\n",
       "      <td>60</td>\n",
       "      <td>9</td>\n",
       "      <td>47</td>\n",
       "      <td>16</td>\n",
       "      <td>80</td>\n",
       "      <td>97</td>\n",
       "      <td>24</td>\n",
       "      <td>67</td>\n",
       "    </tr>\n",
       "    <tr>\n",
       "      <th>fre</th>\n",
       "      <td>94</td>\n",
       "      <td>105</td>\n",
       "      <td>151</td>\n",
       "      <td>56</td>\n",
       "      <td>11</td>\n",
       "      <td>45</td>\n",
       "      <td>21</td>\n",
       "      <td>97</td>\n",
       "      <td>98</td>\n",
       "      <td>22</td>\n",
       "      <td>57</td>\n",
       "    </tr>\n",
       "    <tr>\n",
       "      <th>swa</th>\n",
       "      <td>61</td>\n",
       "      <td>60</td>\n",
       "      <td>56</td>\n",
       "      <td>134</td>\n",
       "      <td>11</td>\n",
       "      <td>47</td>\n",
       "      <td>20</td>\n",
       "      <td>43</td>\n",
       "      <td>63</td>\n",
       "      <td>22</td>\n",
       "      <td>56</td>\n",
       "    </tr>\n",
       "    <tr>\n",
       "      <th>chi</th>\n",
       "      <td>9</td>\n",
       "      <td>9</td>\n",
       "      <td>11</td>\n",
       "      <td>11</td>\n",
       "      <td>44</td>\n",
       "      <td>13</td>\n",
       "      <td>4</td>\n",
       "      <td>10</td>\n",
       "      <td>7</td>\n",
       "      <td>12</td>\n",
       "      <td>10</td>\n",
       "    </tr>\n",
       "    <tr>\n",
       "      <th>jpn</th>\n",
       "      <td>52</td>\n",
       "      <td>47</td>\n",
       "      <td>45</td>\n",
       "      <td>47</td>\n",
       "      <td>13</td>\n",
       "      <td>142</td>\n",
       "      <td>21</td>\n",
       "      <td>52</td>\n",
       "      <td>57</td>\n",
       "      <td>43</td>\n",
       "      <td>54</td>\n",
       "    </tr>\n",
       "    <tr>\n",
       "      <th>ben</th>\n",
       "      <td>20</td>\n",
       "      <td>16</td>\n",
       "      <td>21</td>\n",
       "      <td>20</td>\n",
       "      <td>4</td>\n",
       "      <td>21</td>\n",
       "      <td>53</td>\n",
       "      <td>21</td>\n",
       "      <td>24</td>\n",
       "      <td>23</td>\n",
       "      <td>17</td>\n",
       "    </tr>\n",
       "    <tr>\n",
       "      <th>ger</th>\n",
       "      <td>96</td>\n",
       "      <td>80</td>\n",
       "      <td>97</td>\n",
       "      <td>43</td>\n",
       "      <td>10</td>\n",
       "      <td>52</td>\n",
       "      <td>21</td>\n",
       "      <td>148</td>\n",
       "      <td>92</td>\n",
       "      <td>27</td>\n",
       "      <td>45</td>\n",
       "    </tr>\n",
       "    <tr>\n",
       "      <th>rus</th>\n",
       "      <td>101</td>\n",
       "      <td>97</td>\n",
       "      <td>98</td>\n",
       "      <td>63</td>\n",
       "      <td>7</td>\n",
       "      <td>57</td>\n",
       "      <td>24</td>\n",
       "      <td>92</td>\n",
       "      <td>148</td>\n",
       "      <td>29</td>\n",
       "      <td>62</td>\n",
       "    </tr>\n",
       "    <tr>\n",
       "      <th>tel</th>\n",
       "      <td>28</td>\n",
       "      <td>24</td>\n",
       "      <td>22</td>\n",
       "      <td>22</td>\n",
       "      <td>12</td>\n",
       "      <td>43</td>\n",
       "      <td>23</td>\n",
       "      <td>27</td>\n",
       "      <td>29</td>\n",
       "      <td>64</td>\n",
       "      <td>22</td>\n",
       "    </tr>\n",
       "    <tr>\n",
       "      <th>tha</th>\n",
       "      <td>66</td>\n",
       "      <td>67</td>\n",
       "      <td>57</td>\n",
       "      <td>56</td>\n",
       "      <td>10</td>\n",
       "      <td>54</td>\n",
       "      <td>17</td>\n",
       "      <td>45</td>\n",
       "      <td>62</td>\n",
       "      <td>22</td>\n",
       "      <td>133</td>\n",
       "    </tr>\n",
       "  </tbody>\n",
       "</table>\n",
       "</div>"
      ],
      "text/plain": [
       "     eng  spa  fre  swa  chi  jpn  ben  ger  rus  tel  tha\n",
       "eng  151   96   94   61    9   52   20   96  101   28   66\n",
       "spa   96  147  105   60    9   47   16   80   97   24   67\n",
       "fre   94  105  151   56   11   45   21   97   98   22   57\n",
       "swa   61   60   56  134   11   47   20   43   63   22   56\n",
       "chi    9    9   11   11   44   13    4   10    7   12   10\n",
       "jpn   52   47   45   47   13  142   21   52   57   43   54\n",
       "ben   20   16   21   20    4   21   53   21   24   23   17\n",
       "ger   96   80   97   43   10   52   21  148   92   27   45\n",
       "rus  101   97   98   63    7   57   24   92  148   29   62\n",
       "tel   28   24   22   22   12   43   23   27   29   64   22\n",
       "tha   66   67   57   56   10   54   17   45   62   22  133"
      ]
     },
     "execution_count": 8,
     "metadata": {},
     "output_type": "execute_result"
    }
   ],
   "source": [
    "### specify languages of interest\n",
    "languages_mgsm = ['eng','spa','fre','swa', 'chi', 'jpn','ben','ger','rus','tel','tha']\n",
    "### specify features of interest\n",
    "features = genus+family+phonology+morphology+nominal_cat+nominal_syn+verbal_cat+wordorder+simple_clause+complex_sentences+lexicon\n",
    "\n",
    "get_sim_df(languages_mgsm,features)"
   ]
  },
  {
   "cell_type": "code",
   "execution_count": null,
   "metadata": {},
   "outputs": [],
   "source": []
  }
 ],
 "metadata": {
  "kernelspec": {
   "display_name": "thesis-4",
   "language": "python",
   "name": "python3"
  },
  "language_info": {
   "codemirror_mode": {
    "name": "ipython",
    "version": 3
   },
   "file_extension": ".py",
   "mimetype": "text/x-python",
   "name": "python",
   "nbconvert_exporter": "python",
   "pygments_lexer": "ipython3",
   "version": "3.12.0"
  }
 },
 "nbformat": 4,
 "nbformat_minor": 2
}
